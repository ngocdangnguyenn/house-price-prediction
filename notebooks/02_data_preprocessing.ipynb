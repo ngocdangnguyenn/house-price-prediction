{
 "cells": [
  {
   "cell_type": "markdown",
   "id": "cbf50704",
   "metadata": {},
   "source": [
    "## Data Preprocessing - House Price Dataset\n",
    "\n",
    "### Introduction\n",
    "This notebook performs **data preprocessing** for the residential housing dataset analyzed in `01_exploratory_data_analysis.ipynb`. Based on the insights from the exploratory phase, we will clean and transform the raw dataset to make it suitable for feature engineering and predictive modeling.\n",
    "\n",
    "**Dataset:** Housing Price Prediction Data (Kaggle)\n",
    "\n",
    "**Objective:** Produce a clean dataset that can be directly used in the feature engineering stage.\n",
    "\n",
    "**Author:** NGUYEN Ngoc Dang Nguyen – Final-year Student in Computer Science, Aix-Marseille University\n",
    "\n",
    "**Preprocessing Steps:**\n",
    "1. Import Libraries and Load Data\n",
    "2. Remove Negative Prices\n",
    "3. Encode Categorical Variable\n",
    "4. Save Processed Data"
   ]
  },
  {
   "cell_type": "markdown",
   "id": "f1429300",
   "metadata": {},
   "source": [
    "### 1. Import Libraries and Load Data"
   ]
  },
  {
   "cell_type": "code",
   "execution_count": null,
   "id": "0fea2d83",
   "metadata": {},
   "outputs": [],
   "source": [
    "import pandas as pd\n",
    "import numpy as np\n",
    "\n",
    "df = pd.read_csv(\"../data/raw/housing_price_dataset.csv\")\n",
    "df.columns = df.columns.str.strip() \n",
    "\n",
    "print(f\"Dataset loaded: {df.shape[0]} rows and {df.shape[1]} columns\")\n",
    "print(f\"Memory usage: {df.memory_usage(deep=True).sum() / 1024:.1f} KB\")\n",
    "\n",
    "df.head()"
   ]
  },
  {
   "cell_type": "markdown",
   "id": "2b5c7865",
   "metadata": {},
   "source": [
    "### 2. Remove Negative Prices"
   ]
  },
  {
   "cell_type": "code",
   "execution_count": null,
   "id": "78758da1",
   "metadata": {},
   "outputs": [],
   "source": [
    "print(f\"Original dataset: {df.shape[0]} rows\")\n",
    "\n",
    "df = df[df['Price'] >= 0].copy()\n",
    "\n",
    "print(f\"After removing negative prices: {df.shape[0]} rows\")\n",
    "print(f\"Removed: {50000 - df.shape[0]} rows\")"
   ]
  },
  {
   "cell_type": "markdown",
   "id": "7fa0b85e",
   "metadata": {},
   "source": [
    "### 3. Encode Categorical Variable"
   ]
  },
  {
   "cell_type": "code",
   "execution_count": null,
   "id": "bc484dba",
   "metadata": {},
   "outputs": [],
   "source": [
    "df_encoded = pd.get_dummies(df, columns=['Neighborhood'], drop_first=False)\n",
    "print(f\"Before encoding: {df.shape[1]} columns\")\n",
    "print(f\"After encoding: {df_encoded.shape[1]} columns\")\n",
    "print(f\"\\nNew columns created: {[col for col in df_encoded.columns if 'Neighborhood' in col]}\")"
   ]
  },
  {
   "cell_type": "markdown",
   "id": "b11faa18",
   "metadata": {},
   "source": [
    "### 4. Save Processed Data"
   ]
  },
  {
   "cell_type": "code",
   "execution_count": null,
   "id": "d5994d2e",
   "metadata": {},
   "outputs": [],
   "source": [
    "df_encoded.to_csv('../data/processed/cleaned_data.csv', index=False)\n",
    "\n",
    "print(f\"Cleaned dataset saved: {df_encoded.shape[0]} rows, {df_encoded.shape[1]} columns\")\n",
    "print(\"File: ../data/processed/cleaned_data.csv\")"
   ]
  },
  {
   "cell_type": "markdown",
   "id": "f85b3a8f",
   "metadata": {},
   "source": [
    "### Conclusion\n",
    "\n",
    "The dataset has been successfully preprocessed and prepared for feature engineering. Starting from 50,000 records, we removed 22 invalid entries with negative prices, resulting in 49,978 clean samples. The categorical variable `Neighborhood` was one-hot encoded into 3 binary features. The cleaned dataset was saved for use in the feature engineering stage."
   ]
  }
 ],
 "metadata": {
  "kernelspec": {
   "display_name": "base",
   "language": "python",
   "name": "python3"
  },
  "language_info": {
   "codemirror_mode": {
    "name": "ipython",
    "version": 3
   },
   "file_extension": ".py",
   "mimetype": "text/x-python",
   "name": "python",
   "nbconvert_exporter": "python",
   "pygments_lexer": "ipython3",
   "version": "3.11.5"
  }
 },
 "nbformat": 4,
 "nbformat_minor": 5
}
