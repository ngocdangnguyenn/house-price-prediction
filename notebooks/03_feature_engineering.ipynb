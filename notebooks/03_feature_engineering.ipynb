{
 "cells": [
  {
   "cell_type": "markdown",
   "id": "a707ab8c",
   "metadata": {},
   "source": [
    "# Feature Engineering - House Price Dataset\n",
    "## Introduction\n",
    "This notebook focuses on **feature engineering** for the house price prediction project. Using the cleaned dataset from `02_data_preprocessing.ipynb`, we will create new meaningful features that can help improve model performance.\n",
    "\n",
    "**Dataset:** Housing Price Prediction Data (Kaggle)\n",
    "\n",
    "**Objective:** Create and select new features to improve model performance and prepare the dataset for modeling.\n",
    "\n",
    "**Author:** NGUYEN Ngoc Dang Nguyen - Final-year Student in Computer Science, Aix-Marseille University\n",
    "\n",
    "**Feature Engineering Steps:**\n",
    "1. Import Libraries and Load Data\n",
    "2. Feature Creation\n",
    "3. Feature Transformation\n",
    "4. Feature Selection\n",
    "5. Final Feature Set"
   ]
  },
  {
   "cell_type": "markdown",
   "id": "83b1d114",
   "metadata": {},
   "source": [
    "### 1. Import Libraries and Load Data"
   ]
  },
  {
   "cell_type": "code",
   "execution_count": null,
   "id": "d3736dc5",
   "metadata": {},
   "outputs": [],
   "source": [
    "import pandas as pd\n",
    "import numpy as np\n",
    "import matplotlib.pyplot as plt\n",
    "\n",
    "df = pd.read_csv(\"../data/processed/cleaned_data.csv\")\n",
    "\n",
    "print(f\"Cleaned dataset loaded: {df.shape[0]} rows and {df.shape[1]} columns\")\n",
    "print(f\"Memory usage: {df.memory_usage(deep=True).sum() / 1024:.1f} KB\")\n",
    "\n",
    "df.head()"
   ]
  },
  {
   "cell_type": "markdown",
   "id": "802e1f86",
   "metadata": {},
   "source": [
    "### 2. Feature Creation"
   ]
  },
  {
   "cell_type": "code",
   "execution_count": null,
   "id": "da1ba69c",
   "metadata": {},
   "outputs": [],
   "source": [
    "df['House_Age'] = 2025 - df['YearBuilt']\n",
    "df['Price_per_SqFt'] = df['Price'] / df['SquareFeet']\n",
    "df['Total_Rooms'] = df['Bedrooms'] + df['Bathrooms']\n",
    "df['Room_per_SqFt'] = df['Total_Rooms'] / df['SquareFeet']\n",
    "\n",
    "df.head()"
   ]
  },
  {
   "cell_type": "markdown",
   "id": "1c74567f",
   "metadata": {},
   "source": [
    "### 3. Feature Transformation"
   ]
  },
  {
   "cell_type": "code",
   "execution_count": null,
   "id": "c95a72d1",
   "metadata": {},
   "outputs": [],
   "source": [
    "df['SquareFeet_log'] = np.log1p(df['SquareFeet'])\n",
    "\n",
    "fig, axes = plt.subplots(1, 2, figsize=(12, 4))\n",
    "\n",
    "axes[0].hist(df['SquareFeet'], bins=30, color='skyblue', edgecolor='black')\n",
    "axes[0].set_title('SquareFeet')\n",
    "\n",
    "axes[1].hist(df['SquareFeet_log'], bins=30, color='lightgreen', edgecolor='black')\n",
    "axes[1].set_title('SquareFeet_log')\n",
    "\n",
    "plt.tight_layout()\n",
    "plt.show()"
   ]
  },
  {
   "cell_type": "markdown",
   "id": "f0797c5c",
   "metadata": {},
   "source": [
    "### 4. Feature Selection"
   ]
  },
  {
   "cell_type": "code",
   "execution_count": null,
   "id": "edede6ea",
   "metadata": {},
   "outputs": [],
   "source": [
    "X = df.drop(columns=['Price', 'YearBuilt'])\n",
    "y = df['Price']\n",
    "\n",
    "corr_with_price = df.corr()['Price'].sort_values(ascending=False)\n",
    "\n",
    "print(\"Top 10 features correlated with Price:\")\n",
    "print(corr_with_price.head(11))\n",
    "\n",
    "selected_features = corr_with_price[abs(corr_with_price) > 0.05].index.tolist()\n",
    "selected_features.remove('Price')\n",
    "\n",
    "print(f\"\\nSelected features (|correlation| > 0.05): {len(selected_features)}\")\n",
    "print(selected_features)"
   ]
  },
  {
   "cell_type": "markdown",
   "id": "da89023b",
   "metadata": {},
   "source": [
    "### 5. Final Feature Set"
   ]
  },
  {
   "cell_type": "code",
   "execution_count": null,
   "id": "72549d53",
   "metadata": {},
   "outputs": [],
   "source": [
    "final_features = selected_features.copy()\n",
    "\n",
    "df_final = df[final_features + ['Price']].copy()\n",
    "\n",
    "print(f\"Final dataset shape: {df_final.shape}\")\n",
    "print(f\"Features: {len(final_features)}\")\n",
    "print(f\"\\nFeature list:\")\n",
    "for i, col in enumerate(final_features, 1):\n",
    "    print(f\"{i}. {col}\")\n",
    "\n",
    "df_final.to_csv('../data/processed/engineered_features.csv', index=False)"
   ]
  },
  {
   "cell_type": "markdown",
   "id": "70f396d0",
   "metadata": {},
   "source": [
    "### Conclusion\n",
    "\n",
    "The feature engineering process created 4 new features (House_Age, Price_per_SqFt, Total_Rooms, Room_per_SqFt) and applied log transformation to SquareFeet to reduce skewness. Using correlation analysis, we selected features with |correlation| > 0.05 with the target Price. The final engineered dataset is ready for model training."
   ]
  }
 ],
 "metadata": {
  "kernelspec": {
   "display_name": "base",
   "language": "python",
   "name": "python3"
  },
  "language_info": {
   "codemirror_mode": {
    "name": "ipython",
    "version": 3
   },
   "file_extension": ".py",
   "mimetype": "text/x-python",
   "name": "python",
   "nbconvert_exporter": "python",
   "pygments_lexer": "ipython3",
   "version": "3.11.5"
  }
 },
 "nbformat": 4,
 "nbformat_minor": 5
}
