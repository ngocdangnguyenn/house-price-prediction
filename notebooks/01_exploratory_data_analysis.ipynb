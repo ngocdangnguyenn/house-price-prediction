{
 "cells": [
  {
   "cell_type": "markdown",
   "id": "e64e6592",
   "metadata": {},
   "source": [
    "## Exploratory Data Analysis - House Price Prediction\n",
    "### Introduction\n",
    "This notebook presents an **exploratory data analysis (EDA)** of a residential housing dataset from Kaggle. The goal of this analysis is to identify key factors that influence house prices and to prepare the dataset for further predictive modeling.\n",
    "\n",
    "**Dataset:** Housing Price Prediction Data (Kaggle)\n",
    "\n",
    "**Objective:** Explore and visualize the dataset to gain insights and guide further analysis.\n",
    "\n",
    "**Author:** NGUYEN Ngoc Dang Nguyen - Final-year Student in Computer Science, Aix-Marseille University\n",
    "\n",
    "**EDA Steps:**\n",
    "1. Import Libraries and Load Data\n",
    "2. Dataset Overview\n",
    "3. Data Quality Check\n",
    "4. Missing Values Analysis\n",
    "5. Target Variable Analysis\n",
    "6. Categorical Features\n",
    "7. Numerical Features\n",
    "8. Feature Relationships\n",
    "9. Outlier Detection"
   ]
  },
  {
   "cell_type": "markdown",
   "id": "fe90c0dc",
   "metadata": {},
   "source": [
    "### 1. Import Libraries and Load Data"
   ]
  },
  {
   "cell_type": "code",
   "execution_count": null,
   "id": "b9d01519",
   "metadata": {},
   "outputs": [],
   "source": [
    "import pandas as pd\n",
    "import matplotlib.pyplot as plt\n",
    "import numpy as np\n",
    "import seaborn as sns\n",
    "\n",
    "plt.style.use('default')\n",
    "sns.set_palette(\"husl\")\n",
    "%matplotlib inline\n",
    "\n",
    "df = pd.read_csv(\"../data/raw/housing_price_dataset.csv\")\n",
    "df.columns = df.columns.str.strip()\n",
    "\n",
    "print(f\"Dataset loaded: {df.shape[0]} rows and {df.shape[1]} columns\")\n",
    "df.head()"
   ]
  },
  {
   "cell_type": "markdown",
   "id": "adcfc248",
   "metadata": {},
   "source": [
    "### 2. Dataset Overview"
   ]
  },
  {
   "cell_type": "code",
   "execution_count": null,
   "id": "10ce7fa9",
   "metadata": {},
   "outputs": [],
   "source": [
    "print(\"Basic Info\")\n",
    "df.info()\n",
    "\n",
    "print(\"\\nDescriptive Statistics\")\n",
    "display(df.describe().round(2))\n",
    "\n",
    "print(\"\\nCategorical Columns:\", df.select_dtypes(include='object').columns.tolist())\n",
    "print(\"Numerical Columns:\", df.select_dtypes(include=np.number).columns.tolist())"
   ]
  },
  {
   "cell_type": "markdown",
   "id": "b61be45d",
   "metadata": {},
   "source": [
    "### 3. Data Quality Check"
   ]
  },
  {
   "cell_type": "code",
   "execution_count": null,
   "id": "aee8ee0b",
   "metadata": {},
   "outputs": [],
   "source": [
    "duplicate_count = df.duplicated().sum()\n",
    "print(f\"Number of duplicate rows: {duplicate_count}\")\n",
    "\n",
    "if duplicate_count > 0:\n",
    "    print(\"Duplicate rows detected\")\n",
    "else:\n",
    "    print(\"No duplicate rows detected\")\n",
    "\n",
    "negative_prices = (df['Price'] < 0).sum()\n",
    "print(f\"\\nNumber of records with negative price: {negative_prices}\")\n",
    "if negative_prices > 0:\n",
    "    print(\"Negative house prices found \")\n",
    "    print(f\"Lowest price: {df['Price'].min():.2f}\")\n",
    "\n",
    "print(f\"\\nBasic data checks:\")\n",
    "print(f\"- Bedrooms range: {df['Bedrooms'].min()} to {df['Bedrooms'].max()}\")\n",
    "print(f\"- Bathrooms range: {df['Bathrooms'].min()} to {df['Bathrooms'].max()}\")\n",
    "print(f\"- SquareFeet range: {df['SquareFeet'].min()} to {df['SquareFeet'].max()} sq ft\")"
   ]
  },
  {
   "cell_type": "markdown",
   "id": "f01cd8fe",
   "metadata": {},
   "source": [
    "### 4. Missing Values Analysis"
   ]
  },
  {
   "cell_type": "code",
   "execution_count": null,
   "id": "671523b1",
   "metadata": {},
   "outputs": [],
   "source": [
    "missing = df.isnull().sum()\n",
    "if missing.sum() > 0:\n",
    "    plt.figure(figsize=(8, 4))\n",
    "    sns.barplot(x=missing[missing > 0].index, y=missing[missing > 0].values, color='salmon')\n",
    "    plt.title(\"Missing Values by Feature\")\n",
    "    plt.ylabel(\"Count\")\n",
    "    plt.xticks(rotation=45)\n",
    "    plt.show()\n",
    "else:\n",
    "    print(\"No missing values detected.\")"
   ]
  },
  {
   "cell_type": "markdown",
   "id": "d84ed294",
   "metadata": {},
   "source": [
    "### 5. Target Variable Analysis"
   ]
  },
  {
   "cell_type": "code",
   "execution_count": null,
   "id": "d8c34303",
   "metadata": {},
   "outputs": [],
   "source": [
    "print(f\"Average price: {df['Price'].mean():.2f}\")\n",
    "print(f\"Median price: {df['Price'].median():.2f}\")\n",
    "print(f\"Price range: {df['Price'].min():.2f} to {df['Price'].max():.2f}\")\n",
    "print(f\"Standard deviation: {df['Price'].std():.2f}\")\n",
    "\n",
    "target = 'Price'\n",
    "\n",
    "plt.figure(figsize=(12, 4))\n",
    "plt.subplot(1, 2, 1)\n",
    "sns.histplot(df[target], bins=25, kde=True, color='skyblue')\n",
    "plt.title(f\"{target} Distribution\")\n",
    "\n",
    "plt.subplot(1, 2, 2)\n",
    "sns.boxplot(y=df[target], color='lightcoral')\n",
    "plt.title(f\"{target} Boxplot\")\n",
    "\n",
    "plt.tight_layout()\n",
    "plt.show()"
   ]
  },
  {
   "cell_type": "markdown",
   "id": "95cd55fb",
   "metadata": {},
   "source": [
    "### 6. Categorical Features"
   ]
  },
  {
   "cell_type": "code",
   "execution_count": null,
   "id": "5397fb4f",
   "metadata": {},
   "outputs": [],
   "source": [
    "cat_cols = df.select_dtypes(include='object').columns\n",
    "for col in cat_cols:\n",
    "    plt.figure(figsize=(6, 4))\n",
    "    sns.boxplot(x=col, y=target, data=df)\n",
    "    plt.title(f\"{target} by {col}\")\n",
    "    plt.xticks(rotation=30)\n",
    "    plt.tight_layout()\n",
    "    plt.show()"
   ]
  },
  {
   "cell_type": "markdown",
   "id": "9a169ea1",
   "metadata": {},
   "source": [
    "### 7. Numerical Features"
   ]
  },
  {
   "cell_type": "code",
   "execution_count": null,
   "id": "d1ff8481",
   "metadata": {},
   "outputs": [],
   "source": [
    "num_cols = df.select_dtypes(include=np.number).drop(columns=[target], errors='ignore')\n",
    "if num_cols.shape[1] == 0:\n",
    "    print(\"No numerical features to plot.\")\n",
    "else:\n",
    "    num_cols.hist(bins=20, figsize=(12, 8), color='skyblue', edgecolor='black')\n",
    "    plt.suptitle(\"Distributions of Numerical Features\")\n",
    "    plt.tight_layout()\n",
    "    plt.show()"
   ]
  },
  {
   "cell_type": "markdown",
   "id": "ab54e4f5",
   "metadata": {},
   "source": [
    "### 8. Feature Relationship"
   ]
  },
  {
   "cell_type": "code",
   "execution_count": null,
   "id": "6c38d038",
   "metadata": {},
   "outputs": [],
   "source": [
    "corr = df.corr(numeric_only=True)\n",
    "plt.figure(figsize=(8, 6))\n",
    "sns.heatmap(corr, annot=True, cmap='coolwarm', fmt='.2f')\n",
    "plt.title(\"Correlation Matrix\")\n",
    "plt.show()\n",
    "\n",
    "print(\"Top correlations with Price:\")\n",
    "print(corr['Price'].sort_values(ascending=False)[1:4])"
   ]
  },
  {
   "cell_type": "markdown",
   "id": "d078c0c7",
   "metadata": {},
   "source": [
    "### 9. Outlier Detection"
   ]
  },
  {
   "cell_type": "code",
   "execution_count": null,
   "id": "a42fffc2",
   "metadata": {},
   "outputs": [],
   "source": [
    "Q1, Q3 = df[target].quantile([0.25, 0.75])\n",
    "IQR = Q3 - Q1\n",
    "low, high = Q1 - 1.5 * IQR, Q3 + 1.5 * IQR\n",
    "\n",
    "plt.figure(figsize=(10, 4))\n",
    "sns.scatterplot(x=range(len(df)), y=df[target], alpha=0.7)\n",
    "plt.axhline(low, color='r', linestyle='--', label='Lower Bound')\n",
    "plt.axhline(high, color='r', linestyle='--', label='Upper Bound')\n",
    "plt.title(\"Price Outlier Detection\")\n",
    "plt.legend()\n",
    "plt.show()\n",
    "\n",
    "outliers = df[(df[target] < low) | (df[target] > high)]\n",
    "print(f\"Number of outliers: {len(outliers)} / {len(df)} ({len(outliers)/len(df)*100:.1f}%)\")"
   ]
  },
  {
   "cell_type": "markdown",
   "id": "6c4d866d",
   "metadata": {},
   "source": [
    "### Conclusion\n",
    "The exploratory data analysis provided a comprehensive understanding of the dataset's structure, distributions, and key relationships. By visualizing missing values, outliers, and feature correlations, we identified the most influential variables and potential data quality issues. These insights form a solid foundation for effective data cleaning, feature engineering, and model development in the subsequent steps of the pipeline."
   ]
  }
 ],
 "metadata": {
  "kernelspec": {
   "display_name": "base",
   "language": "python",
   "name": "python3"
  },
  "language_info": {
   "codemirror_mode": {
    "name": "ipython",
    "version": 3
   },
   "file_extension": ".py",
   "mimetype": "text/x-python",
   "name": "python",
   "nbconvert_exporter": "python",
   "pygments_lexer": "ipython3",
   "version": "3.11.5"
  }
 },
 "nbformat": 4,
 "nbformat_minor": 5
}
